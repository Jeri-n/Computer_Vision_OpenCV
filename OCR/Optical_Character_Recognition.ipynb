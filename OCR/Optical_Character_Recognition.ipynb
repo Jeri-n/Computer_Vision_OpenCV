{
 "cells": [
  {
   "cell_type": "code",
   "execution_count": 48,
   "metadata": {},
   "outputs": [],
   "source": [
    "import cv2 \n",
    "import pytesseract"
   ]
  },
  {
   "cell_type": "code",
   "execution_count": 49,
   "metadata": {},
   "outputs": [
    {
     "data": {
      "text/plain": [
       "(640, 1200, 3)"
      ]
     },
     "execution_count": 49,
     "metadata": {},
     "output_type": "execute_result"
    }
   ],
   "source": [
    "img = cv2.imread(\"E:\\OCV\\OCR\\sample.png\")\n",
    "img.shape"
   ]
  },
  {
   "cell_type": "code",
   "execution_count": 50,
   "metadata": {},
   "outputs": [],
   "source": [
    "# pytesseract.pytesseract.tesseract_cmd = r\"C:\\Program Files\\Tesseract-OCR\\tesseract.exe\""
   ]
  },
  {
   "cell_type": "code",
   "execution_count": 51,
   "metadata": {},
   "outputs": [
    {
     "data": {
      "text/plain": [
       "'A man who dares to waste\\none hour of time has not\\ndiscovered the value of life.\\n\\n— Charles Darwin 4\\n\\nAZ QUOTES\\n'"
      ]
     },
     "execution_count": 51,
     "metadata": {},
     "output_type": "execute_result"
    }
   ],
   "source": [
    "text = pytesseract.image_to_string(img)\n",
    "text"
   ]
  },
  {
   "cell_type": "code",
   "execution_count": 52,
   "metadata": {},
   "outputs": [
    {
     "name": "stdout",
     "output_type": "stream",
     "text": [
      "A man who dares to waste\n",
      "one hour of time has not\n",
      "discovered the value of life.\n",
      "\n",
      "— Charles Darwin 4\n",
      "\n",
      "AZ QUOTES\n",
      "\n"
     ]
    }
   ],
   "source": [
    "print(text)"
   ]
  },
  {
   "cell_type": "code",
   "execution_count": 53,
   "metadata": {},
   "outputs": [
    {
     "name": "stdout",
     "output_type": "stream",
     "text": [
      "\"Dont let what\n",
      "OU cannot do\n",
      "interfere with\n",
      "\n",
      "what you can do.\"\n",
      "— John VVooden\n",
      "\n",
      "\n"
     ]
    }
   ],
   "source": [
    "im2 = cv.imread(\"E:\\OCV\\OCR\\handwritten_img_sample.png\")\n",
    "text2 = pytesseract.image_to_string(im2)\n",
    "print(text2)"
   ]
  },
  {
   "cell_type": "code",
   "execution_count": 54,
   "metadata": {},
   "outputs": [
    {
     "name": "stdout",
     "output_type": "stream",
     "text": [
      "dust he Hg Syez\\\n",
      "\n",
      "You Spread Wn H,\n",
      "ry, la Spine fe\n",
      "O uk lo Y bein fov\n",
      "\n"
     ]
    }
   ],
   "source": [
    "im2 = cv.imread(\"E:\\OCV\\OCR\\handwritten_img_sample2.png\")\n",
    "text2 = pytesseract.image_to_string(im2)\n",
    "print(text2)"
   ]
  },
  {
   "cell_type": "code",
   "execution_count": 59,
   "metadata": {},
   "outputs": [],
   "source": [
    "image = cv2.imread('E:\\OCV\\OCR\\sample.png')\n",
    "gray = cv2.cvtColor(image, cv2.COLOR_BGR2GRAY)\n",
    "thresh = cv2.threshold(gray, 0, 255, cv2.THRESH_BINARY_INV + cv2.THRESH_OTSU)[1]\n",
    "\n",
    "# Draw bounding boxes\n",
    "cnts = cv2.findContours(thresh, cv2.RETR_EXTERNAL, cv2.CHAIN_APPROX_SIMPLE)\n",
    "cnts = cnts[0] if len(cnts) == 2 else cnts[1]\n",
    "for c in cnts:\n",
    "    x,y,w,h = cv2.boundingRect(c)\n",
    "    cv2.rectangle(image, (x, y), (x + w, y + h), (360,255,12), 2)\n",
    "\n",
    "# OCR\n",
    "# print(data)\n",
    "\n",
    "cv2.imshow('thresh', thresh)\n",
    "cv2.imshow('image', image)\n",
    "cv2.waitKey()\n",
    "cv2.destroyAllWindows()"
   ]
  },
  {
   "cell_type": "code",
   "execution_count": 60,
   "metadata": {},
   "outputs": [
    {
     "name": "stdout",
     "output_type": "stream",
     "text": [
      "the quick\n",
      "brown fox\n",
      "jumps over\n",
      "the lazy\n",
      "dog\n",
      "\n"
     ]
    }
   ],
   "source": [
    "data = pytesseract.image_to_string(255 - thresh, lang='eng',config='--psm 6')\n",
    "print(data)"
   ]
  },
  {
   "cell_type": "code",
   "execution_count": null,
   "metadata": {},
   "outputs": [],
   "source": []
  }
 ],
 "metadata": {
  "kernelspec": {
   "display_name": "Python 3.8.13 ('opencv')",
   "language": "python",
   "name": "python3"
  },
  "language_info": {
   "codemirror_mode": {
    "name": "ipython",
    "version": 3
   },
   "file_extension": ".py",
   "mimetype": "text/x-python",
   "name": "python",
   "nbconvert_exporter": "python",
   "pygments_lexer": "ipython3",
   "version": "3.8.13"
  },
  "orig_nbformat": 4,
  "vscode": {
   "interpreter": {
    "hash": "70228a41559a32717fa246c49216951fa92e20c553eb2ae52fbee129780e398e"
   }
  }
 },
 "nbformat": 4,
 "nbformat_minor": 2
}
